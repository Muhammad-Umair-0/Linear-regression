{
 "cells": [
  {
   "cell_type": "code",
   "execution_count": 17,
   "id": "42fb7d94-65cd-4c71-a3eb-8dc096d97aca",
   "metadata": {},
   "outputs": [],
   "source": [
    "import pandas as pd \n"
   ]
  },
  {
   "cell_type": "code",
   "execution_count": 31,
   "id": "52d01da1-57af-4992-9892-7c2623e49a41",
   "metadata": {},
   "outputs": [],
   "source": [
    "df = pd.read_csv('diabetes_dataset.csv')"
   ]
  },
  {
   "cell_type": "code",
   "execution_count": 33,
   "id": "0e1df70e-8106-4ee3-a7e4-ba3a021c8609",
   "metadata": {},
   "outputs": [
    {
     "data": {
      "text/plain": [
       "(9538, 17)"
      ]
     },
     "execution_count": 33,
     "metadata": {},
     "output_type": "execute_result"
    }
   ],
   "source": [
    "df.shape"
   ]
  },
  {
   "cell_type": "code",
   "execution_count": 35,
   "id": "f70dbf7a-152a-4ecc-b2e1-b8f5dd56f4be",
   "metadata": {},
   "outputs": [
    {
     "data": {
      "text/html": [
       "<div>\n",
       "<style scoped>\n",
       "    .dataframe tbody tr th:only-of-type {\n",
       "        vertical-align: middle;\n",
       "    }\n",
       "\n",
       "    .dataframe tbody tr th {\n",
       "        vertical-align: top;\n",
       "    }\n",
       "\n",
       "    .dataframe thead th {\n",
       "        text-align: right;\n",
       "    }\n",
       "</style>\n",
       "<table border=\"1\" class=\"dataframe\">\n",
       "  <thead>\n",
       "    <tr style=\"text-align: right;\">\n",
       "      <th></th>\n",
       "      <th>Age</th>\n",
       "      <th>Pregnancies</th>\n",
       "      <th>BMI</th>\n",
       "      <th>Glucose</th>\n",
       "      <th>BloodPressure</th>\n",
       "      <th>HbA1c</th>\n",
       "      <th>LDL</th>\n",
       "      <th>HDL</th>\n",
       "      <th>Triglycerides</th>\n",
       "      <th>WaistCircumference</th>\n",
       "      <th>HipCircumference</th>\n",
       "      <th>WHR</th>\n",
       "      <th>FamilyHistory</th>\n",
       "      <th>DietType</th>\n",
       "      <th>Hypertension</th>\n",
       "      <th>MedicationUse</th>\n",
       "      <th>Outcome</th>\n",
       "    </tr>\n",
       "  </thead>\n",
       "  <tbody>\n",
       "    <tr>\n",
       "      <th>0</th>\n",
       "      <td>69</td>\n",
       "      <td>5</td>\n",
       "      <td>28.39</td>\n",
       "      <td>130.1</td>\n",
       "      <td>77</td>\n",
       "      <td>5.4</td>\n",
       "      <td>130.4</td>\n",
       "      <td>44.0</td>\n",
       "      <td>50.0</td>\n",
       "      <td>90.5</td>\n",
       "      <td>107.9</td>\n",
       "      <td>0.84</td>\n",
       "      <td>0</td>\n",
       "      <td>0</td>\n",
       "      <td>0</td>\n",
       "      <td>1</td>\n",
       "      <td>0</td>\n",
       "    </tr>\n",
       "    <tr>\n",
       "      <th>1</th>\n",
       "      <td>32</td>\n",
       "      <td>1</td>\n",
       "      <td>26.49</td>\n",
       "      <td>116.5</td>\n",
       "      <td>72</td>\n",
       "      <td>4.5</td>\n",
       "      <td>87.4</td>\n",
       "      <td>54.2</td>\n",
       "      <td>129.9</td>\n",
       "      <td>113.3</td>\n",
       "      <td>81.4</td>\n",
       "      <td>1.39</td>\n",
       "      <td>0</td>\n",
       "      <td>0</td>\n",
       "      <td>0</td>\n",
       "      <td>0</td>\n",
       "      <td>0</td>\n",
       "    </tr>\n",
       "    <tr>\n",
       "      <th>2</th>\n",
       "      <td>89</td>\n",
       "      <td>13</td>\n",
       "      <td>25.34</td>\n",
       "      <td>101.0</td>\n",
       "      <td>82</td>\n",
       "      <td>4.9</td>\n",
       "      <td>112.5</td>\n",
       "      <td>56.8</td>\n",
       "      <td>177.6</td>\n",
       "      <td>84.7</td>\n",
       "      <td>107.2</td>\n",
       "      <td>0.79</td>\n",
       "      <td>0</td>\n",
       "      <td>0</td>\n",
       "      <td>0</td>\n",
       "      <td>1</td>\n",
       "      <td>0</td>\n",
       "    </tr>\n",
       "    <tr>\n",
       "      <th>3</th>\n",
       "      <td>78</td>\n",
       "      <td>13</td>\n",
       "      <td>29.91</td>\n",
       "      <td>146.0</td>\n",
       "      <td>104</td>\n",
       "      <td>5.7</td>\n",
       "      <td>50.7</td>\n",
       "      <td>39.1</td>\n",
       "      <td>117.0</td>\n",
       "      <td>108.9</td>\n",
       "      <td>110.0</td>\n",
       "      <td>0.99</td>\n",
       "      <td>0</td>\n",
       "      <td>0</td>\n",
       "      <td>0</td>\n",
       "      <td>1</td>\n",
       "      <td>1</td>\n",
       "    </tr>\n",
       "    <tr>\n",
       "      <th>4</th>\n",
       "      <td>38</td>\n",
       "      <td>8</td>\n",
       "      <td>24.56</td>\n",
       "      <td>103.2</td>\n",
       "      <td>74</td>\n",
       "      <td>4.7</td>\n",
       "      <td>102.5</td>\n",
       "      <td>29.1</td>\n",
       "      <td>145.9</td>\n",
       "      <td>84.1</td>\n",
       "      <td>92.8</td>\n",
       "      <td>0.91</td>\n",
       "      <td>0</td>\n",
       "      <td>1</td>\n",
       "      <td>0</td>\n",
       "      <td>0</td>\n",
       "      <td>0</td>\n",
       "    </tr>\n",
       "  </tbody>\n",
       "</table>\n",
       "</div>"
      ],
      "text/plain": [
       "   Age  Pregnancies    BMI  Glucose  BloodPressure  HbA1c    LDL   HDL  \\\n",
       "0   69            5  28.39    130.1             77    5.4  130.4  44.0   \n",
       "1   32            1  26.49    116.5             72    4.5   87.4  54.2   \n",
       "2   89           13  25.34    101.0             82    4.9  112.5  56.8   \n",
       "3   78           13  29.91    146.0            104    5.7   50.7  39.1   \n",
       "4   38            8  24.56    103.2             74    4.7  102.5  29.1   \n",
       "\n",
       "   Triglycerides  WaistCircumference  HipCircumference   WHR  FamilyHistory  \\\n",
       "0           50.0                90.5             107.9  0.84              0   \n",
       "1          129.9               113.3              81.4  1.39              0   \n",
       "2          177.6                84.7             107.2  0.79              0   \n",
       "3          117.0               108.9             110.0  0.99              0   \n",
       "4          145.9                84.1              92.8  0.91              0   \n",
       "\n",
       "   DietType  Hypertension  MedicationUse  Outcome  \n",
       "0         0             0              1        0  \n",
       "1         0             0              0        0  \n",
       "2         0             0              1        0  \n",
       "3         0             0              1        1  \n",
       "4         1             0              0        0  "
      ]
     },
     "execution_count": 35,
     "metadata": {},
     "output_type": "execute_result"
    }
   ],
   "source": [
    "df.head()"
   ]
  },
  {
   "cell_type": "code",
   "execution_count": 37,
   "id": "a20aa4fe-3bc6-4ac8-99d9-1a9d868cd494",
   "metadata": {},
   "outputs": [
    {
     "data": {
      "text/plain": [
       "Age                   0\n",
       "Pregnancies           0\n",
       "BMI                   0\n",
       "Glucose               0\n",
       "BloodPressure         0\n",
       "HbA1c                 0\n",
       "LDL                   0\n",
       "HDL                   0\n",
       "Triglycerides         0\n",
       "WaistCircumference    0\n",
       "HipCircumference      0\n",
       "WHR                   0\n",
       "FamilyHistory         0\n",
       "DietType              0\n",
       "Hypertension          0\n",
       "MedicationUse         0\n",
       "Outcome               0\n",
       "dtype: int64"
      ]
     },
     "execution_count": 37,
     "metadata": {},
     "output_type": "execute_result"
    }
   ],
   "source": [
    "df.isnull().sum()"
   ]
  },
  {
   "cell_type": "code",
   "execution_count": 39,
   "id": "e7649a08-4aaf-4a12-baf9-61096e8d75a5",
   "metadata": {},
   "outputs": [],
   "source": [
    "duplicate = df[df.duplicated()]"
   ]
  },
  {
   "cell_type": "code",
   "execution_count": 41,
   "id": "7516181c-aad1-4cfb-9108-019a6653efa0",
   "metadata": {},
   "outputs": [
    {
     "data": {
      "text/html": [
       "<div>\n",
       "<style scoped>\n",
       "    .dataframe tbody tr th:only-of-type {\n",
       "        vertical-align: middle;\n",
       "    }\n",
       "\n",
       "    .dataframe tbody tr th {\n",
       "        vertical-align: top;\n",
       "    }\n",
       "\n",
       "    .dataframe thead th {\n",
       "        text-align: right;\n",
       "    }\n",
       "</style>\n",
       "<table border=\"1\" class=\"dataframe\">\n",
       "  <thead>\n",
       "    <tr style=\"text-align: right;\">\n",
       "      <th></th>\n",
       "      <th>Age</th>\n",
       "      <th>Pregnancies</th>\n",
       "      <th>BMI</th>\n",
       "      <th>Glucose</th>\n",
       "      <th>BloodPressure</th>\n",
       "      <th>HbA1c</th>\n",
       "      <th>LDL</th>\n",
       "      <th>HDL</th>\n",
       "      <th>Triglycerides</th>\n",
       "      <th>WaistCircumference</th>\n",
       "      <th>HipCircumference</th>\n",
       "      <th>WHR</th>\n",
       "      <th>FamilyHistory</th>\n",
       "      <th>DietType</th>\n",
       "      <th>Hypertension</th>\n",
       "      <th>MedicationUse</th>\n",
       "      <th>Outcome</th>\n",
       "    </tr>\n",
       "  </thead>\n",
       "  <tbody>\n",
       "  </tbody>\n",
       "</table>\n",
       "</div>"
      ],
      "text/plain": [
       "Empty DataFrame\n",
       "Columns: [Age, Pregnancies, BMI, Glucose, BloodPressure, HbA1c, LDL, HDL, Triglycerides, WaistCircumference, HipCircumference, WHR, FamilyHistory, DietType, Hypertension, MedicationUse, Outcome]\n",
       "Index: []"
      ]
     },
     "execution_count": 41,
     "metadata": {},
     "output_type": "execute_result"
    }
   ],
   "source": [
    "duplicate"
   ]
  },
  {
   "cell_type": "code",
   "execution_count": null,
   "id": "ef83aa43-f193-4537-a34f-f2f47d93b7ad",
   "metadata": {},
   "outputs": [],
   "source": []
  },
  {
   "cell_type": "code",
   "execution_count": null,
   "id": "b9e1d6e1-1bd6-411b-998e-098145f1fe03",
   "metadata": {},
   "outputs": [],
   "source": []
  }
 ],
 "metadata": {
  "kernelspec": {
   "display_name": "Python 3 (ipykernel)",
   "language": "python",
   "name": "python3"
  },
  "language_info": {
   "codemirror_mode": {
    "name": "ipython",
    "version": 3
   },
   "file_extension": ".py",
   "mimetype": "text/x-python",
   "name": "python",
   "nbconvert_exporter": "python",
   "pygments_lexer": "ipython3",
   "version": "3.12.7"
  }
 },
 "nbformat": 4,
 "nbformat_minor": 5
}
